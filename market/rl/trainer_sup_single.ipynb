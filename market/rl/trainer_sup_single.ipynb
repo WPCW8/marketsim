{
 "cells": [
  {
   "cell_type": "code",
   "execution_count": 47,
   "metadata": {},
   "outputs": [],
   "source": [
    "import numpy as np\n",
    "\n",
    "import torch\n",
    "import torch.nn as nn\n",
    "import torch.optim as optim\n",
    "\n",
    "from stock_data import training_gen\n",
    "\n",
    "import matplotlib.pyplot as plt\n",
    "\n",
    "from tqdm import tqdm\n",
    "\n",
    "import gym\n",
    "import real_market_env_gym"
   ]
  },
  {
   "cell_type": "code",
   "execution_count": 48,
   "metadata": {},
   "outputs": [],
   "source": [
    "model = nn.Sequential(\n",
    "    nn.Linear(100, 128),\n",
    "    nn.ReLU(),\n",
    "    nn.Linear(128, 128),\n",
    "    nn.ReLU(),\n",
    "    nn.Linear(128, 3),\n",
    "    nn.Softmax(dim=0)\n",
    ")"
   ]
  },
  {
   "cell_type": "code",
   "execution_count": 51,
   "metadata": {},
   "outputs": [],
   "source": [
    "def input_handler(x, y):\n",
    "    x = torch.tensor(x, dtype=torch.float32)\n",
    "    y = torch.tensor(y, dtype=torch.float32)\n",
    "    mean = x.mean()\n",
    "    std = x.std()\n",
    "\n",
    "    actions = [y > x[-1], y == x[-1], y < x[-1]]\n",
    "    actions = torch.tensor(actions, dtype=torch.float32).T\n",
    "\n",
    "    x = (x - mean) / std\n",
    "\n",
    "    return x, actions, mean, std"
   ]
  },
  {
   "cell_type": "code",
   "execution_count": 53,
   "metadata": {},
   "outputs": [
    {
     "name": "stderr",
     "output_type": "stream",
     "text": [
      "Batch:  99%|█████████▉| 109400/110000 [01:46<00:00, 1029.09it/s]\n"
     ]
    },
    {
     "name": "stdout",
     "output_type": "stream",
     "text": [
      "STOPPED AT 109400\n"
     ]
    },
    {
     "name": "stderr",
     "output_type": "stream",
     "text": [
      "Batch:  99%|█████████▉| 109400/110000 [01:45<00:00, 1040.20it/s]\n"
     ]
    },
    {
     "name": "stdout",
     "output_type": "stream",
     "text": [
      "STOPPED AT 109400\n"
     ]
    },
    {
     "name": "stderr",
     "output_type": "stream",
     "text": [
      "Batch:  99%|█████████▉| 109400/110000 [01:46<00:00, 1028.47it/s]\n"
     ]
    },
    {
     "name": "stdout",
     "output_type": "stream",
     "text": [
      "STOPPED AT 109400\n"
     ]
    },
    {
     "name": "stderr",
     "output_type": "stream",
     "text": [
      "Batch:  99%|█████████▉| 109400/110000 [01:41<00:00, 1082.89it/s]\n"
     ]
    },
    {
     "name": "stdout",
     "output_type": "stream",
     "text": [
      "STOPPED AT 109400\n"
     ]
    },
    {
     "name": "stderr",
     "output_type": "stream",
     "text": [
      "Batch:  99%|█████████▉| 109400/110000 [01:42<00:00, 1068.64it/s]\n"
     ]
    },
    {
     "name": "stdout",
     "output_type": "stream",
     "text": [
      "STOPPED AT 109400\n"
     ]
    },
    {
     "name": "stderr",
     "output_type": "stream",
     "text": [
      "Batch:  99%|█████████▉| 109400/110000 [01:44<00:00, 1042.32it/s]\n"
     ]
    },
    {
     "name": "stdout",
     "output_type": "stream",
     "text": [
      "STOPPED AT 109400\n"
     ]
    },
    {
     "name": "stderr",
     "output_type": "stream",
     "text": [
      "Batch:  99%|█████████▉| 109400/110000 [01:46<00:00, 1029.70it/s]\n"
     ]
    },
    {
     "name": "stdout",
     "output_type": "stream",
     "text": [
      "STOPPED AT 109400\n"
     ]
    },
    {
     "name": "stderr",
     "output_type": "stream",
     "text": [
      "Batch:  99%|█████████▉| 109400/110000 [01:45<00:00, 1033.79it/s]\n"
     ]
    },
    {
     "name": "stdout",
     "output_type": "stream",
     "text": [
      "STOPPED AT 109400\n"
     ]
    },
    {
     "name": "stderr",
     "output_type": "stream",
     "text": [
      "Batch:  99%|█████████▉| 109400/110000 [01:45<00:00, 1033.87it/s]\n"
     ]
    },
    {
     "name": "stdout",
     "output_type": "stream",
     "text": [
      "STOPPED AT 109400\n"
     ]
    },
    {
     "name": "stderr",
     "output_type": "stream",
     "text": [
      "Batch:  99%|█████████▉| 109400/110000 [01:45<00:00, 1035.49it/s]\n"
     ]
    },
    {
     "name": "stdout",
     "output_type": "stream",
     "text": [
      "STOPPED AT 109400\n"
     ]
    }
   ],
   "source": [
    "\n",
    "optimizer = optim.Adam(model.parameters(), lr=1e-3)\n",
    "loss_fn = nn.MSELoss()\n",
    "\n",
    "losses = []\n",
    "\n",
    "for epoch in range(10):\n",
    "    MAX = 110000\n",
    "    data_gen = training_gen(max_len=18)\n",
    "    for i in tqdm(range(MAX), desc='Batch', position=0):\n",
    "        try:\n",
    "            x, y = next(data_gen)\n",
    "            x, y, mean, std = input_handler(x, y)\n",
    "            if np.isnan(y).any():\n",
    "                print(f'NAN AT {i}')\n",
    "        except StopIteration:\n",
    "            print(f'STOPPED AT {i}')\n",
    "            break\n",
    "\n",
    "\n",
    "        optimizer.zero_grad()\n",
    "        y_pred = model(x)\n",
    "        loss = loss_fn(y_pred, y)\n",
    "        loss.backward()\n",
    "        optimizer.step()\n",
    "\n",
    "        # if i % (MAX // 1000) == 0:\n",
    "        losses.append(loss.item())\n",
    "\n",
    "losses = np.array(losses)\n"
   ]
  },
  {
   "cell_type": "code",
   "execution_count": 54,
   "metadata": {},
   "outputs": [],
   "source": [
    "torch.save(model, 'log/policy_sup_single.pth')"
   ]
  },
  {
   "cell_type": "code",
   "execution_count": 59,
   "metadata": {},
   "outputs": [
    {
     "name": "stderr",
     "output_type": "stream",
     "text": [
      "/Users/varun/Library/Mobile Documents/com~apple~CloudDocs/fyp2/venv/lib/python3.9/site-packages/gym/utils/passive_env_checker.py:174: UserWarning: \u001b[33mWARN: Future gym versions will require that `Env.reset` can be passed a `seed` instead of using `Env.seed` for resetting the environment random number generator.\u001b[0m\n",
      "  logger.warn(\n",
      "/Users/varun/Library/Mobile Documents/com~apple~CloudDocs/fyp2/venv/lib/python3.9/site-packages/gym/utils/passive_env_checker.py:187: UserWarning: \u001b[33mWARN: Future gym versions will require that `Env.reset` can be passed `options` to allow the environment initialisation to be passed additional information.\u001b[0m\n",
      "  logger.warn(\n",
      "Test: 100%|██████████| 100/100 [04:02<00:00,  2.42s/it]\n"
     ]
    }
   ],
   "source": [
    "env = gym.make('real_market_env_gym-v0')\n",
    "env.reset()\n",
    "\n",
    "model = torch.load('log/policy_sup_single.pth')\n",
    "\n",
    "tests = 100\n",
    "test_data = []\n",
    "\n",
    "for i in tqdm(range(tests), desc='Test', position=0):\n",
    "    for i in range(100):\n",
    "        obs, _ = env.reset()\n",
    "        done = False\n",
    "        while not done:\n",
    "            prices = (np.array(obs[:100]) - np.mean(obs[:100])) / np.std(obs[:100])\n",
    "            action = int(model(torch.tensor(prices, dtype=torch.float32)).argmax().item())\n",
    "            obs, reward, done, _, info = env.step(action)\n",
    "\n",
    "    test_data.append(info['value'])\n",
    "\n",
    "test_data = np.array(test_data) - 1000\n"
   ]
  },
  {
   "cell_type": "code",
   "execution_count": 79,
   "metadata": {},
   "outputs": [
    {
     "data": {
      "image/png": "[encoded data removed]",
      "text/plain": [
       "<Figure size 1000x500 with 1 Axes>"
      ]
     },
     "metadata": {},
     "output_type": "display_data"
    },
    {
     "name": "stdout",
     "output_type": "stream",
     "text": [
      "Dist 40|60\n"
     ]
    }
   ],
   "source": [
    "fig, ax = plt.subplots(1, 1, figsize=(10, 5))\n",
    "\n",
    "ax.set_title(f'Test returns for supervised model, µ={test_data.mean():.2f}, σ={test_data.std():.2f}')\n",
    "ax.set_xlabel('Value')\n",
    "ax.set_ylabel('Frequency')\n",
    "\n",
    "ax.hist(test_data, bins=50, edgecolor='black', linewidth=0.5)\n",
    "plt.show()\n",
    "\n",
    "print(f'Dist {len(test_data[test_data < 0])}|{len(test_data[test_data > 0])}')"
   ]
  },
  {
   "cell_type": "code",
   "execution_count": 78,
   "metadata": {},
   "outputs": [
    {
     "name": "stdout",
     "output_type": "stream",
     "text": [
      "tensor([115., 176., 115., 167., 146., 142., 115., 149., 182., 151.])\n",
      "tensor([0.2462, 0.3768, 0.2462, 0.3576, 0.3126, 0.3040, 0.2462, 0.3190, 0.3897,\n",
      "        0.3233])\n"
     ]
    }
   ],
   "source": []
  }
 ],
 "metadata": {
  "kernelspec": {
   "display_name": "venv",
   "language": "python",
   "name": "python3"
  },
  "language_info": {
   "codemirror_mode": {
    "name": "ipython",
    "version": 3
   },
   "file_extension": ".py",
   "mimetype": "text/x-python",
   "name": "python",
   "nbconvert_exporter": "python",
   "pygments_lexer": "ipython3",
   "version": "3.9.6"
  },
  "orig_nbformat": 4
 },
 "nbformat": 4,
 "nbformat_minor": 2
}
