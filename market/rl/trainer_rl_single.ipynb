{
 "cells": [
  {
   "cell_type": "code",
   "execution_count": 82,
   "metadata": {},
   "outputs": [],
   "source": [
    "import gym\n",
    "import numpy as np\n",
    "import real_market_env_gym\n",
    "\n",
    "from collections import namedtuple, deque\n",
    "\n",
    "import torch\n",
    "import torch.nn as nn\n",
    "import copy\n",
    "\n",
    "import random\n",
    "\n",
    "import matplotlib\n",
    "import matplotlib.pyplot as plt\n",
    "\n",
    "from itertools import count\n",
    "\n",
    "from tqdm import tqdm\n",
    "\n",
    "from stock_data import generate_prices\n",
    "\n",
    "import warnings\n",
    "\n",
    "warnings.filterwarnings('ignore', category=UserWarning)"
   ]
  },
  {
   "attachments": {},
   "cell_type": "markdown",
   "metadata": {},
   "source": [
    "### Agent setup for deep Q-learning"
   ]
  },
  {
   "cell_type": "code",
   "execution_count": 83,
   "metadata": {},
   "outputs": [
    {
     "name": "stdout",
     "output_type": "stream",
     "text": [
      "Using device: cpu\n"
     ]
    }
   ],
   "source": [
    "DEVICE = torch.device('cuda' if torch.cuda.is_available() else 'cpu')\n",
    "print(f'Using device: {DEVICE}')"
   ]
  },
  {
   "cell_type": "code",
   "execution_count": 84,
   "metadata": {},
   "outputs": [],
   "source": [
    "model = nn.Sequential(\n",
    "    nn.Linear(102, 128),\n",
    "    nn.ReLU(),\n",
    "    nn.Linear(128, 128),\n",
    "    nn.ReLU(),\n",
    "    nn.Linear(128, 3),\n",
    "    nn.Softmax(dim=1)\n",
    ")"
   ]
  },
  {
   "attachments": {},
   "cell_type": "markdown",
   "metadata": {},
   "source": [
    "#### Setup replay memory"
   ]
  },
  {
   "cell_type": "code",
   "execution_count": 85,
   "metadata": {},
   "outputs": [],
   "source": [
    "transition = namedtuple('Transition', ('state', 'action', 'next_state', 'reward'))\n",
    "\n",
    "\n",
    "class ReplayMemory:\n",
    "    def __init__(self, maxlen=None) -> None:\n",
    "        self.memory = deque([], maxlen=maxlen)\n",
    "    \n",
    "    def push(self, *args):\n",
    "        self.memory.append(transition(*args))\n",
    "    \n",
    "    def sample(self, batch_size):\n",
    "        return random.sample(self.memory, batch_size)\n",
    "    \n",
    "    def __len__(self):\n",
    "        return len(self.memory)\n"
   ]
  },
  {
   "attachments": {},
   "cell_type": "markdown",
   "metadata": {},
   "source": [
    "### Env setup"
   ]
  },
  {
   "cell_type": "code",
   "execution_count": 86,
   "metadata": {},
   "outputs": [
    {
     "name": "stdout",
     "output_type": "stream",
     "text": [
      "action space: Discrete(3)\n",
      "observation space: Box(0.0, 1000000000.0, (102,), float64)\n"
     ]
    }
   ],
   "source": [
    "env = gym.make('rand_market_env_gym-v0')\n",
    "\n",
    "# RANDOM_SEED = 42\n",
    "# torch.manual_seed(RANDOM_SEED)\n",
    "# np.random.seed(RANDOM_SEED)\n",
    "\n",
    "print(f\"action space: {env.action_space}\")\n",
    "print(f\"observation space: {env.observation_space}\")"
   ]
  },
  {
   "attachments": {},
   "cell_type": "markdown",
   "metadata": {},
   "source": [
    "### Setup training hyperparameters and helper/callback functions"
   ]
  },
  {
   "cell_type": "code",
   "execution_count": 87,
   "metadata": {},
   "outputs": [
    {
     "name": "stdout",
     "output_type": "stream",
     "text": [
      "n_actions: 3\n",
      "n_states: 102\n"
     ]
    }
   ],
   "source": [
    "BATCH_SIZE = 16\n",
    "GAMMA = 0.99\n",
    "EPS_START = 0.9\n",
    "EPS_END = 0.05\n",
    "EPS_DECAY = 200\n",
    "TAU = 5e-3\n",
    "LR = 1e-4\n",
    "\n",
    "n_actions = env.action_space.n\n",
    "state, info = env.reset()\n",
    "\n",
    "n_states = len(state)\n",
    "\n",
    "print(f\"n_actions: {n_actions}\")\n",
    "print(f\"n_states: {n_states}\")\n",
    "\n",
    "policy = copy.deepcopy(model).to(DEVICE)\n",
    "# policy = torch.load('log/policy.pth').to(DEVICE)\n",
    "target = copy.deepcopy(model).to(DEVICE)\n",
    "target.load_state_dict(policy.state_dict())\n",
    "\n",
    "# for some reason, use adamw, which is adam with weight decay\n",
    "optimizer = torch.optim.Adam(policy.parameters(), lr=LR, amsgrad=True)\n",
    "memory = ReplayMemory(10000)\n",
    "\n",
    "steps = 0"
   ]
  },
  {
   "cell_type": "code",
   "execution_count": 88,
   "metadata": {},
   "outputs": [],
   "source": [
    "def _get_eps_threshold(steps):\n",
    "    return EPS_END + (EPS_START - EPS_END) * np.exp(-1. * steps / EPS_DECAY)"
   ]
  },
  {
   "cell_type": "code",
   "execution_count": 89,
   "metadata": {},
   "outputs": [],
   "source": [
    "def select_action(state):\n",
    "    global steps\n",
    "    sample = random.random()\n",
    "    eps_threshold = _get_eps_threshold(steps)\n",
    "    steps += 1\n",
    "\n",
    "    if sample > eps_threshold:\n",
    "        return policy(state).argmax().view(1, 1)\n",
    "    else:\n",
    "        return torch.tensor([[env.action_space.sample()]], device=DEVICE, dtype=torch.long)"
   ]
  },
  {
   "attachments": {},
   "cell_type": "markdown",
   "metadata": {},
   "source": [
    "### Finally, training"
   ]
  },
  {
   "cell_type": "code",
   "execution_count": 90,
   "metadata": {},
   "outputs": [],
   "source": [
    "def optimize_step():\n",
    "    if len(memory) < BATCH_SIZE:\n",
    "        return\n",
    "    \n",
    "    transitions = memory.sample(BATCH_SIZE)\n",
    "    # converts batch array of transitions to transition of batch arrays\n",
    "    batch = transition(*zip(*transitions))\n",
    "\n",
    "    # get only the non-final states\n",
    "    non_final_mask = torch.tensor(tuple(map(lambda s: s is not None, batch.next_state)), device=DEVICE, dtype=torch.bool)\n",
    "    non_final_next_states = torch.cat([s for s in batch.next_state if s is not None])\n",
    "\n",
    "    state_batch = torch.cat(batch.state).view(BATCH_SIZE, -1)\n",
    "    action_batch = torch.cat(batch.action).view(BATCH_SIZE, -1)\n",
    "    reward_batch = torch.cat(batch.reward).view(BATCH_SIZE, -1)\n",
    "\n",
    "    state_action_values = policy(state_batch).gather(1, action_batch).view(BATCH_SIZE, -1)\n",
    "    next_state_values = torch.zeros(BATCH_SIZE, device=DEVICE)\n",
    "    with torch.no_grad():\n",
    "        non_final_next_states = non_final_next_states.view(next_state_values[non_final_mask].shape[0], -1)\n",
    "        next_state_values[non_final_mask] = target(non_final_next_states).max(1)[0].detach()\n",
    "    \n",
    "    expected_state_action_values = (next_state_values * GAMMA) + reward_batch\n",
    "\n",
    "    # huber loss\n",
    "    func = nn.SmoothL1Loss()\n",
    "    loss = func(state_action_values, expected_state_action_values.unsqueeze(0))\n",
    "\n",
    "    optimizer.zero_grad()\n",
    "    loss.backward()\n",
    "\n",
    "    nn.utils.clip_grad_value_(policy.parameters(), 100)\n",
    "    optimizer.step()\n"
   ]
  },
  {
   "cell_type": "code",
   "execution_count": 91,
   "metadata": {},
   "outputs": [],
   "source": [
    "episode_returns = []\n",
    "\n",
    "real_episodes = 1000"
   ]
  },
  {
   "cell_type": "code",
   "execution_count": 93,
   "metadata": {},
   "outputs": [
    {
     "name": "stderr",
     "output_type": "stream",
     "text": [
      "Training real: 100%|██████████| 1000/1000 [03:48<00:00,  4.37it/s]\n"
     ]
    }
   ],
   "source": [
    "env = gym.make('real_market_env_gym-v0')\n",
    "for ep in tqdm(range(real_episodes), desc='Training real', position=0):\n",
    "\n",
    "    state, info = env.reset()\n",
    "    state = torch.tensor(state, device=DEVICE, dtype=torch.float)\n",
    "\n",
    "    for i in range(100):\n",
    "        action = select_action(state)\n",
    "        next_state, reward, term, trunc, info = env.step(action.item())\n",
    "        reward = torch.tensor([reward], device=DEVICE, dtype=torch.float)\n",
    "\n",
    "        if not (term or trunc):\n",
    "            next_state = torch.tensor(next_state, device=DEVICE, dtype=torch.float)\n",
    "        else:\n",
    "            next_state = None\n",
    "        \n",
    "        memory.push(state, action, next_state, reward)\n",
    "\n",
    "        state = next_state\n",
    "\n",
    "        optimize_step()\n",
    "\n",
    "        target_dict = target.state_dict()\n",
    "        policy_dict = policy.state_dict()\n",
    "\n",
    "        for key in policy_dict:\n",
    "            target_dict[key] = TAU * policy_dict[key] + (1.0 - TAU) * target_dict[key]\n",
    "        target.load_state_dict(target_dict)\n",
    "\n",
    "        if term or trunc:\n",
    "            episode_returns.append(info['value'])\n",
    "            break"
   ]
  },
  {
   "cell_type": "code",
   "execution_count": 94,
   "metadata": {},
   "outputs": [],
   "source": [
    "torch.save(policy, 'log/policy.pth')\n",
    "# print(policy.state_dict())"
   ]
  },
  {
   "attachments": {},
   "cell_type": "markdown",
   "metadata": {},
   "source": [
    "### Testing"
   ]
  },
  {
   "cell_type": "code",
   "execution_count": 95,
   "metadata": {},
   "outputs": [
    {
     "name": "stderr",
     "output_type": "stream",
     "text": [
      "Testing: 100%|██████████| 100/100 [00:02<00:00, 45.78it/s]\n"
     ]
    }
   ],
   "source": [
    "test_returns = []\n",
    "test_growth = []\n",
    "\n",
    "policy = torch.load('log/policy.pth').to(DEVICE)\n",
    "test_episodes = 100\n",
    "\n",
    "gen_data = []\n",
    "gen_growth = []\n",
    "\n",
    "env = gym.make('real_market_env_gym-v0')\n",
    "\n",
    "for ep in tqdm(range(test_episodes), desc='Testing', position=0):\n",
    "    state, info = env.reset(training=False)\n",
    "    state = torch.tensor(state, device=DEVICE, dtype=torch.float)\n",
    "\n",
    "    for i in range(100):\n",
    "        action = policy(state).argmax().view(1, 1)\n",
    "        next_state, reward, term, trunc, info = env.step(action.item())\n",
    "        reward = torch.tensor([reward], device=DEVICE, dtype=torch.float)\n",
    "\n",
    "        if not (term or trunc):\n",
    "            next_state = torch.tensor(next_state, device=DEVICE, dtype=torch.float)\n",
    "        else:\n",
    "            next_state = None\n",
    "        \n",
    "        state = next_state\n",
    "\n",
    "        if term or trunc:\n",
    "            gen_data.append((info['end'] - info['start']) * info['assets'])\n",
    "            gen_growth.append((info['end'] / info['start']) - 1)\n",
    "            test_returns.append(info['value'])\n",
    "            test_growth.append((info['value'] / 1000) - 1)\n",
    "            break\n",
    "    "
   ]
  },
  {
   "cell_type": "code",
   "execution_count": 96,
   "metadata": {},
   "outputs": [
    {
     "data": {
      "image/png": "[encoded data removed]",
      "text/plain": [
       "<Figure size 1000x500 with 1 Axes>"
      ]
     },
     "metadata": {},
     "output_type": "display_data"
    },
    {
     "data": {
      "image/png": "[encoded data removed]",
      "text/plain": [
       "<Figure size 1000x500 with 1 Axes>"
      ]
     },
     "metadata": {},
     "output_type": "display_data"
    },
    {
     "name": "stdout",
     "output_type": "stream",
     "text": [
      "Profitability: 31|0|69\n",
      "Performance: 56|0|44\n"
     ]
    }
   ],
   "source": [
    "data = np.array(test_returns)\n",
    "market = np.array(gen_data)\n",
    "\n",
    "data -= 1000\n",
    "data = data[~np.isnan(data)]\n",
    "\n",
    "data2 = np.array(test_growth) - np.array(gen_growth)\n",
    "data2 = data2[~np.isnan(data2)]\n",
    "\n",
    "fig, ax1 = plt.subplots(1, 1, figsize=(10, 5))\n",
    "ax1.hist(data, bins=50, edgecolor='black', linewidth=0.5)\n",
    "\n",
    "mean = data.mean()\n",
    "std = data.std()\n",
    "\n",
    "ax1.set_title(f'Episode Returns, µ={mean:.2f}, σ={std:.2f}')\n",
    "ax1.set_xlabel('Return')\n",
    "ax1.set_ylabel('Frequency')\n",
    "\n",
    "fig, ax2 = plt.subplots(1, 1, figsize=(10, 5))\n",
    "ax2.hist(data2, bins=50, edgecolor='black', linewidth=0.5)\n",
    "\n",
    "mean2 = data2.mean()\n",
    "std2 = data2.std()\n",
    "\n",
    "ax2.set_title(f'Episode performance compared to market, µ={mean2:.2f}, σ={std2:.2f}')\n",
    "ax2.set_xlabel('Performance')\n",
    "ax2.set_ylabel('Frequency')\n",
    "\n",
    "plt.show()\n",
    "\n",
    "print(f'Profitability: {len(data[data < 0])}|{len(data[data == 0])}|{len(data[data > 0])}')\n",
    "print(f'Performance: {len(data2[data2 < 0])}|{len(data2[data2 == 0])}|{len(data2[data2 > 0])}')"
   ]
  },
  {
   "cell_type": "code",
   "execution_count": 97,
   "metadata": {},
   "outputs": [],
   "source": [
    "# print(data)\n",
    "# print(data2)"
   ]
  }
 ],
 "metadata": {
  "kernelspec": {
   "display_name": "venv",
   "language": "python",
   "name": "python3"
  },
  "language_info": {
   "codemirror_mode": {
    "name": "ipython",
    "version": 3
   },
   "file_extension": ".py",
   "mimetype": "text/x-python",
   "name": "python",
   "nbconvert_exporter": "python",
   "pygments_lexer": "ipython3",
   "version": "3.9.6"
  },
  "orig_nbformat": 4,
  "vscode": {
   "interpreter": {
    "hash": "ab8d6a6097286fa234e9243e7063c7c89a691fbe7f65eb4d1dce12d6b81201be"
   }
  }
 },
 "nbformat": 4,
 "nbformat_minor": 2
}
